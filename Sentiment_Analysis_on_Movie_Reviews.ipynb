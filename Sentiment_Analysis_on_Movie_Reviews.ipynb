{
  "nbformat": 4,
  "nbformat_minor": 0,
  "metadata": {
    "colab": {
      "provenance": []
    },
    "kernelspec": {
      "name": "python3",
      "display_name": "Python 3"
    },
    "language_info": {
      "name": "python"
    }
  },
  "cells": [
    {
      "cell_type": "markdown",
      "source": [
        "📌 In this notebook, our primary objective is to categorize movie comments into two distinct classes: positive and negative. To achieve this, we employ various natural language processing and machine learning techniques to analyze and classify the sentiment expressed in the comments accurately."
      ],
      "metadata": {
        "id": "L3tdJZWiPoW8"
      }
    },
    {
      "cell_type": "markdown",
      "source": [
        "# Import Necessary Libraries"
      ],
      "metadata": {
        "id": "fZEu2QNpx-Ni"
      }
    },
    {
      "cell_type": "code",
      "execution_count": 9,
      "metadata": {
        "colab": {
          "base_uri": "https://localhost:8080/"
        },
        "id": "Ky_4AaZ9u54e",
        "outputId": "e532ad4b-f3bc-4e58-e2df-c063a1d5a515"
      },
      "outputs": [
        {
          "output_type": "stream",
          "name": "stderr",
          "text": [
            "[nltk_data] Downloading package wordnet to /root/nltk_data...\n"
          ]
        }
      ],
      "source": [
        "import numpy as np\n",
        "import pandas as pd\n",
        "import seaborn as sns\n",
        "import matplotlib.pyplot as plt\n",
        "\n",
        "from textblob import TextBlob, Word\n",
        "from sklearn import model_selection, preprocessing, linear_model\n",
        "from sklearn.feature_extraction.text import TfidfVectorizer, CountVectorizer\n",
        "\n",
        "import nltk\n",
        "nltk.download(\"wordnet\")\n",
        "from nltk.corpus import stopwords"
      ]
    },
    {
      "cell_type": "markdown",
      "source": [
        "# Import Dataset"
      ],
      "metadata": {
        "id": "2kEmGS8OzFlo"
      }
    },
    {
      "cell_type": "code",
      "source": [
        "df = pd.read_csv(\"/content/drive/MyDrive/Colab Notebooks/datasets/sentiment-analysis-df.csv\")\n",
        "del df[\"Unnamed: 0\"]\n",
        "df.head()"
      ],
      "metadata": {
        "colab": {
          "base_uri": "https://localhost:8080/",
          "height": 206
        },
        "id": "iRsosDVByM6U",
        "outputId": "dd68739c-3a02-43a0-df9d-246dcd8834e0"
      },
      "execution_count": 10,
      "outputs": [
        {
          "output_type": "execute_result",
          "data": {
            "text/plain": [
              "                                                text     label\n",
              "0  A series of escapades demonstrating the adage ...  Negative\n",
              "1                                 good for the goose  Pozitive\n",
              "2                                               good  Pozitive\n",
              "3  the gander , some of which occasionally amuses...  Negative\n",
              "4                                             amuses  Pozitive"
            ],
            "text/html": [
              "\n",
              "\n",
              "  <div id=\"df-6e24f2f6-6ec3-40e0-9cfd-e380dbc198e5\">\n",
              "    <div class=\"colab-df-container\">\n",
              "      <div>\n",
              "<style scoped>\n",
              "    .dataframe tbody tr th:only-of-type {\n",
              "        vertical-align: middle;\n",
              "    }\n",
              "\n",
              "    .dataframe tbody tr th {\n",
              "        vertical-align: top;\n",
              "    }\n",
              "\n",
              "    .dataframe thead th {\n",
              "        text-align: right;\n",
              "    }\n",
              "</style>\n",
              "<table border=\"1\" class=\"dataframe\">\n",
              "  <thead>\n",
              "    <tr style=\"text-align: right;\">\n",
              "      <th></th>\n",
              "      <th>text</th>\n",
              "      <th>label</th>\n",
              "    </tr>\n",
              "  </thead>\n",
              "  <tbody>\n",
              "    <tr>\n",
              "      <th>0</th>\n",
              "      <td>A series of escapades demonstrating the adage ...</td>\n",
              "      <td>Negative</td>\n",
              "    </tr>\n",
              "    <tr>\n",
              "      <th>1</th>\n",
              "      <td>good for the goose</td>\n",
              "      <td>Pozitive</td>\n",
              "    </tr>\n",
              "    <tr>\n",
              "      <th>2</th>\n",
              "      <td>good</td>\n",
              "      <td>Pozitive</td>\n",
              "    </tr>\n",
              "    <tr>\n",
              "      <th>3</th>\n",
              "      <td>the gander , some of which occasionally amuses...</td>\n",
              "      <td>Negative</td>\n",
              "    </tr>\n",
              "    <tr>\n",
              "      <th>4</th>\n",
              "      <td>amuses</td>\n",
              "      <td>Pozitive</td>\n",
              "    </tr>\n",
              "  </tbody>\n",
              "</table>\n",
              "</div>\n",
              "      <button class=\"colab-df-convert\" onclick=\"convertToInteractive('df-6e24f2f6-6ec3-40e0-9cfd-e380dbc198e5')\"\n",
              "              title=\"Convert this dataframe to an interactive table.\"\n",
              "              style=\"display:none;\">\n",
              "\n",
              "  <svg xmlns=\"http://www.w3.org/2000/svg\" height=\"24px\"viewBox=\"0 0 24 24\"\n",
              "       width=\"24px\">\n",
              "    <path d=\"M0 0h24v24H0V0z\" fill=\"none\"/>\n",
              "    <path d=\"M18.56 5.44l.94 2.06.94-2.06 2.06-.94-2.06-.94-.94-2.06-.94 2.06-2.06.94zm-11 1L8.5 8.5l.94-2.06 2.06-.94-2.06-.94L8.5 2.5l-.94 2.06-2.06.94zm10 10l.94 2.06.94-2.06 2.06-.94-2.06-.94-.94-2.06-.94 2.06-2.06.94z\"/><path d=\"M17.41 7.96l-1.37-1.37c-.4-.4-.92-.59-1.43-.59-.52 0-1.04.2-1.43.59L10.3 9.45l-7.72 7.72c-.78.78-.78 2.05 0 2.83L4 21.41c.39.39.9.59 1.41.59.51 0 1.02-.2 1.41-.59l7.78-7.78 2.81-2.81c.8-.78.8-2.07 0-2.86zM5.41 20L4 18.59l7.72-7.72 1.47 1.35L5.41 20z\"/>\n",
              "  </svg>\n",
              "      </button>\n",
              "\n",
              "\n",
              "\n",
              "    <div id=\"df-4462f6d5-a9ce-4b85-92e5-673fbbb872af\">\n",
              "      <button class=\"colab-df-quickchart\" onclick=\"quickchart('df-4462f6d5-a9ce-4b85-92e5-673fbbb872af')\"\n",
              "              title=\"Suggest charts.\"\n",
              "              style=\"display:none;\">\n",
              "\n",
              "<svg xmlns=\"http://www.w3.org/2000/svg\" height=\"24px\"viewBox=\"0 0 24 24\"\n",
              "     width=\"24px\">\n",
              "    <g>\n",
              "        <path d=\"M19 3H5c-1.1 0-2 .9-2 2v14c0 1.1.9 2 2 2h14c1.1 0 2-.9 2-2V5c0-1.1-.9-2-2-2zM9 17H7v-7h2v7zm4 0h-2V7h2v10zm4 0h-2v-4h2v4z\"/>\n",
              "    </g>\n",
              "</svg>\n",
              "      </button>\n",
              "    </div>\n",
              "\n",
              "<style>\n",
              "  .colab-df-quickchart {\n",
              "    background-color: #E8F0FE;\n",
              "    border: none;\n",
              "    border-radius: 50%;\n",
              "    cursor: pointer;\n",
              "    display: none;\n",
              "    fill: #1967D2;\n",
              "    height: 32px;\n",
              "    padding: 0 0 0 0;\n",
              "    width: 32px;\n",
              "  }\n",
              "\n",
              "  .colab-df-quickchart:hover {\n",
              "    background-color: #E2EBFA;\n",
              "    box-shadow: 0px 1px 2px rgba(60, 64, 67, 0.3), 0px 1px 3px 1px rgba(60, 64, 67, 0.15);\n",
              "    fill: #174EA6;\n",
              "  }\n",
              "\n",
              "  [theme=dark] .colab-df-quickchart {\n",
              "    background-color: #3B4455;\n",
              "    fill: #D2E3FC;\n",
              "  }\n",
              "\n",
              "  [theme=dark] .colab-df-quickchart:hover {\n",
              "    background-color: #434B5C;\n",
              "    box-shadow: 0px 1px 3px 1px rgba(0, 0, 0, 0.15);\n",
              "    filter: drop-shadow(0px 1px 2px rgba(0, 0, 0, 0.3));\n",
              "    fill: #FFFFFF;\n",
              "  }\n",
              "</style>\n",
              "\n",
              "    <script>\n",
              "      async function quickchart(key) {\n",
              "        const containerElement = document.querySelector('#' + key);\n",
              "        const charts = await google.colab.kernel.invokeFunction(\n",
              "            'suggestCharts', [key], {});\n",
              "      }\n",
              "    </script>\n",
              "\n",
              "      <script>\n",
              "\n",
              "function displayQuickchartButton(domScope) {\n",
              "  let quickchartButtonEl =\n",
              "    domScope.querySelector('#df-4462f6d5-a9ce-4b85-92e5-673fbbb872af button.colab-df-quickchart');\n",
              "  quickchartButtonEl.style.display =\n",
              "    google.colab.kernel.accessAllowed ? 'block' : 'none';\n",
              "}\n",
              "\n",
              "        displayQuickchartButton(document);\n",
              "      </script>\n",
              "      <style>\n",
              "    .colab-df-container {\n",
              "      display:flex;\n",
              "      flex-wrap:wrap;\n",
              "      gap: 12px;\n",
              "    }\n",
              "\n",
              "    .colab-df-convert {\n",
              "      background-color: #E8F0FE;\n",
              "      border: none;\n",
              "      border-radius: 50%;\n",
              "      cursor: pointer;\n",
              "      display: none;\n",
              "      fill: #1967D2;\n",
              "      height: 32px;\n",
              "      padding: 0 0 0 0;\n",
              "      width: 32px;\n",
              "    }\n",
              "\n",
              "    .colab-df-convert:hover {\n",
              "      background-color: #E2EBFA;\n",
              "      box-shadow: 0px 1px 2px rgba(60, 64, 67, 0.3), 0px 1px 3px 1px rgba(60, 64, 67, 0.15);\n",
              "      fill: #174EA6;\n",
              "    }\n",
              "\n",
              "    [theme=dark] .colab-df-convert {\n",
              "      background-color: #3B4455;\n",
              "      fill: #D2E3FC;\n",
              "    }\n",
              "\n",
              "    [theme=dark] .colab-df-convert:hover {\n",
              "      background-color: #434B5C;\n",
              "      box-shadow: 0px 1px 3px 1px rgba(0, 0, 0, 0.15);\n",
              "      filter: drop-shadow(0px 1px 2px rgba(0, 0, 0, 0.3));\n",
              "      fill: #FFFFFF;\n",
              "    }\n",
              "  </style>\n",
              "\n",
              "      <script>\n",
              "        const buttonEl =\n",
              "          document.querySelector('#df-6e24f2f6-6ec3-40e0-9cfd-e380dbc198e5 button.colab-df-convert');\n",
              "        buttonEl.style.display =\n",
              "          google.colab.kernel.accessAllowed ? 'block' : 'none';\n",
              "\n",
              "        async function convertToInteractive(key) {\n",
              "          const element = document.querySelector('#df-6e24f2f6-6ec3-40e0-9cfd-e380dbc198e5');\n",
              "          const dataTable =\n",
              "            await google.colab.kernel.invokeFunction('convertToInteractive',\n",
              "                                                     [key], {});\n",
              "          if (!dataTable) return;\n",
              "\n",
              "          const docLinkHtml = 'Like what you see? Visit the ' +\n",
              "            '<a target=\"_blank\" href=https://colab.research.google.com/notebooks/data_table.ipynb>data table notebook</a>'\n",
              "            + ' to learn more about interactive tables.';\n",
              "          element.innerHTML = '';\n",
              "          dataTable['output_type'] = 'display_data';\n",
              "          await google.colab.output.renderOutput(dataTable, element);\n",
              "          const docLink = document.createElement('div');\n",
              "          docLink.innerHTML = docLinkHtml;\n",
              "          element.appendChild(docLink);\n",
              "        }\n",
              "      </script>\n",
              "    </div>\n",
              "  </div>\n"
            ]
          },
          "metadata": {},
          "execution_count": 10
        }
      ]
    },
    {
      "cell_type": "markdown",
      "source": [
        "# Text Preprocessing"
      ],
      "metadata": {
        "id": "qH--f4Jm4WBv"
      }
    },
    {
      "cell_type": "code",
      "source": [
        "def text_preprocessing(dataframe, dependent_var, independent_var):\n",
        "  # Case Conversion - Uppercase to Lowercase\n",
        "  dataframe[dependent_var] = dataframe[dependent_var].apply(lambda x: \" \".join(x.lower() for x in x.split()))\n",
        "\n",
        "  # Removing Punctuation Marks\n",
        "  dataframe[dependent_var] = dataframe[dependent_var].str.replace('[^\\w\\s]','')\n",
        "\n",
        "  # Removing Numbers\n",
        "  dataframe[dependent_var] = dataframe[dependent_var].str.replace('\\d','')\n",
        "\n",
        "  # StopWords\n",
        "  sw = stopwords.words('english')\n",
        "  dataframe[dependent_var] = dataframe[dependent_var].apply(lambda x: \" \".join(x for x in x.split() if x not in sw))\n",
        "\n",
        "  # Deletion of Infrequent\n",
        "  rmv_infrequent = pd.Series(' '.join(dataframe[dependent_var]).split()).value_counts()[-1000:]\n",
        "  dataframe[dependent_var] = dataframe[dependent_var].apply(lambda x: \" \".join(x for x in x.split() if x not in rmv_infrequent))\n",
        "\n",
        "  # Lemmatize\n",
        "  dataframe[dependent_var] = dataframe[dependent_var].apply(lambda x: \" \".join([Word(word).lemmatize() for word in x.split()]))\n",
        "\n",
        "  # train and test split\n",
        "  train_x, test_x, train_y, test_y = model_selection.train_test_split(dataframe[dependent_var], dataframe[independent_var], random_state=1)\n",
        "\n",
        "  # Label Encoder\n",
        "  encoder = preprocessing.LabelEncoder()\n",
        "  train_y = encoder.fit_transform(train_y)\n",
        "  test_y = encoder.fit_transform(test_y)\n",
        "\n",
        "  return dataframe, train_x, test_x, train_y, test_y"
      ],
      "metadata": {
        "id": "TeldW52KzVmd"
      },
      "execution_count": 11,
      "outputs": []
    },
    {
      "cell_type": "code",
      "source": [
        "df, train_x, test_x, train_y, test_y = text_preprocessing(df, \"text\", \"label\")"
      ],
      "metadata": {
        "colab": {
          "base_uri": "https://localhost:8080/"
        },
        "id": "4wUWXb8bzkY7",
        "outputId": "5d95a888-fa7a-496f-c9af-efb526515661"
      },
      "execution_count": 12,
      "outputs": [
        {
          "output_type": "stream",
          "name": "stderr",
          "text": [
            "<ipython-input-11-3c428db438fd>:6: FutureWarning: The default value of regex will change from True to False in a future version.\n",
            "  dataframe[dependent_var] = dataframe[dependent_var].str.replace('[^\\w\\s]','')\n",
            "<ipython-input-11-3c428db438fd>:9: FutureWarning: The default value of regex will change from True to False in a future version.\n",
            "  dataframe[dependent_var] = dataframe[dependent_var].str.replace('\\d','')\n"
          ]
        }
      ]
    },
    {
      "cell_type": "code",
      "source": [
        "df.head()"
      ],
      "metadata": {
        "colab": {
          "base_uri": "https://localhost:8080/",
          "height": 206
        },
        "id": "KXphtCBQ4NCD",
        "outputId": "5bbc9bfd-f1fc-46d3-e9d8-311ca47b8c8e"
      },
      "execution_count": 13,
      "outputs": [
        {
          "output_type": "execute_result",
          "data": {
            "text/plain": [
              "                                                text     label\n",
              "0  series demonstrating adage good goose also goo...  Negative\n",
              "1                                         good goose  Pozitive\n",
              "2                                               good  Pozitive\n",
              "3  gander occasionally amuses none amount much story  Negative\n",
              "4                                             amuses  Pozitive"
            ],
            "text/html": [
              "\n",
              "\n",
              "  <div id=\"df-fd4bd092-a0a0-4131-a153-4991c000d92b\">\n",
              "    <div class=\"colab-df-container\">\n",
              "      <div>\n",
              "<style scoped>\n",
              "    .dataframe tbody tr th:only-of-type {\n",
              "        vertical-align: middle;\n",
              "    }\n",
              "\n",
              "    .dataframe tbody tr th {\n",
              "        vertical-align: top;\n",
              "    }\n",
              "\n",
              "    .dataframe thead th {\n",
              "        text-align: right;\n",
              "    }\n",
              "</style>\n",
              "<table border=\"1\" class=\"dataframe\">\n",
              "  <thead>\n",
              "    <tr style=\"text-align: right;\">\n",
              "      <th></th>\n",
              "      <th>text</th>\n",
              "      <th>label</th>\n",
              "    </tr>\n",
              "  </thead>\n",
              "  <tbody>\n",
              "    <tr>\n",
              "      <th>0</th>\n",
              "      <td>series demonstrating adage good goose also goo...</td>\n",
              "      <td>Negative</td>\n",
              "    </tr>\n",
              "    <tr>\n",
              "      <th>1</th>\n",
              "      <td>good goose</td>\n",
              "      <td>Pozitive</td>\n",
              "    </tr>\n",
              "    <tr>\n",
              "      <th>2</th>\n",
              "      <td>good</td>\n",
              "      <td>Pozitive</td>\n",
              "    </tr>\n",
              "    <tr>\n",
              "      <th>3</th>\n",
              "      <td>gander occasionally amuses none amount much story</td>\n",
              "      <td>Negative</td>\n",
              "    </tr>\n",
              "    <tr>\n",
              "      <th>4</th>\n",
              "      <td>amuses</td>\n",
              "      <td>Pozitive</td>\n",
              "    </tr>\n",
              "  </tbody>\n",
              "</table>\n",
              "</div>\n",
              "      <button class=\"colab-df-convert\" onclick=\"convertToInteractive('df-fd4bd092-a0a0-4131-a153-4991c000d92b')\"\n",
              "              title=\"Convert this dataframe to an interactive table.\"\n",
              "              style=\"display:none;\">\n",
              "\n",
              "  <svg xmlns=\"http://www.w3.org/2000/svg\" height=\"24px\"viewBox=\"0 0 24 24\"\n",
              "       width=\"24px\">\n",
              "    <path d=\"M0 0h24v24H0V0z\" fill=\"none\"/>\n",
              "    <path d=\"M18.56 5.44l.94 2.06.94-2.06 2.06-.94-2.06-.94-.94-2.06-.94 2.06-2.06.94zm-11 1L8.5 8.5l.94-2.06 2.06-.94-2.06-.94L8.5 2.5l-.94 2.06-2.06.94zm10 10l.94 2.06.94-2.06 2.06-.94-2.06-.94-.94-2.06-.94 2.06-2.06.94z\"/><path d=\"M17.41 7.96l-1.37-1.37c-.4-.4-.92-.59-1.43-.59-.52 0-1.04.2-1.43.59L10.3 9.45l-7.72 7.72c-.78.78-.78 2.05 0 2.83L4 21.41c.39.39.9.59 1.41.59.51 0 1.02-.2 1.41-.59l7.78-7.78 2.81-2.81c.8-.78.8-2.07 0-2.86zM5.41 20L4 18.59l7.72-7.72 1.47 1.35L5.41 20z\"/>\n",
              "  </svg>\n",
              "      </button>\n",
              "\n",
              "\n",
              "\n",
              "    <div id=\"df-80417ab6-1cf9-4c8c-a06f-392ca61ce269\">\n",
              "      <button class=\"colab-df-quickchart\" onclick=\"quickchart('df-80417ab6-1cf9-4c8c-a06f-392ca61ce269')\"\n",
              "              title=\"Suggest charts.\"\n",
              "              style=\"display:none;\">\n",
              "\n",
              "<svg xmlns=\"http://www.w3.org/2000/svg\" height=\"24px\"viewBox=\"0 0 24 24\"\n",
              "     width=\"24px\">\n",
              "    <g>\n",
              "        <path d=\"M19 3H5c-1.1 0-2 .9-2 2v14c0 1.1.9 2 2 2h14c1.1 0 2-.9 2-2V5c0-1.1-.9-2-2-2zM9 17H7v-7h2v7zm4 0h-2V7h2v10zm4 0h-2v-4h2v4z\"/>\n",
              "    </g>\n",
              "</svg>\n",
              "      </button>\n",
              "    </div>\n",
              "\n",
              "<style>\n",
              "  .colab-df-quickchart {\n",
              "    background-color: #E8F0FE;\n",
              "    border: none;\n",
              "    border-radius: 50%;\n",
              "    cursor: pointer;\n",
              "    display: none;\n",
              "    fill: #1967D2;\n",
              "    height: 32px;\n",
              "    padding: 0 0 0 0;\n",
              "    width: 32px;\n",
              "  }\n",
              "\n",
              "  .colab-df-quickchart:hover {\n",
              "    background-color: #E2EBFA;\n",
              "    box-shadow: 0px 1px 2px rgba(60, 64, 67, 0.3), 0px 1px 3px 1px rgba(60, 64, 67, 0.15);\n",
              "    fill: #174EA6;\n",
              "  }\n",
              "\n",
              "  [theme=dark] .colab-df-quickchart {\n",
              "    background-color: #3B4455;\n",
              "    fill: #D2E3FC;\n",
              "  }\n",
              "\n",
              "  [theme=dark] .colab-df-quickchart:hover {\n",
              "    background-color: #434B5C;\n",
              "    box-shadow: 0px 1px 3px 1px rgba(0, 0, 0, 0.15);\n",
              "    filter: drop-shadow(0px 1px 2px rgba(0, 0, 0, 0.3));\n",
              "    fill: #FFFFFF;\n",
              "  }\n",
              "</style>\n",
              "\n",
              "    <script>\n",
              "      async function quickchart(key) {\n",
              "        const containerElement = document.querySelector('#' + key);\n",
              "        const charts = await google.colab.kernel.invokeFunction(\n",
              "            'suggestCharts', [key], {});\n",
              "      }\n",
              "    </script>\n",
              "\n",
              "      <script>\n",
              "\n",
              "function displayQuickchartButton(domScope) {\n",
              "  let quickchartButtonEl =\n",
              "    domScope.querySelector('#df-80417ab6-1cf9-4c8c-a06f-392ca61ce269 button.colab-df-quickchart');\n",
              "  quickchartButtonEl.style.display =\n",
              "    google.colab.kernel.accessAllowed ? 'block' : 'none';\n",
              "}\n",
              "\n",
              "        displayQuickchartButton(document);\n",
              "      </script>\n",
              "      <style>\n",
              "    .colab-df-container {\n",
              "      display:flex;\n",
              "      flex-wrap:wrap;\n",
              "      gap: 12px;\n",
              "    }\n",
              "\n",
              "    .colab-df-convert {\n",
              "      background-color: #E8F0FE;\n",
              "      border: none;\n",
              "      border-radius: 50%;\n",
              "      cursor: pointer;\n",
              "      display: none;\n",
              "      fill: #1967D2;\n",
              "      height: 32px;\n",
              "      padding: 0 0 0 0;\n",
              "      width: 32px;\n",
              "    }\n",
              "\n",
              "    .colab-df-convert:hover {\n",
              "      background-color: #E2EBFA;\n",
              "      box-shadow: 0px 1px 2px rgba(60, 64, 67, 0.3), 0px 1px 3px 1px rgba(60, 64, 67, 0.15);\n",
              "      fill: #174EA6;\n",
              "    }\n",
              "\n",
              "    [theme=dark] .colab-df-convert {\n",
              "      background-color: #3B4455;\n",
              "      fill: #D2E3FC;\n",
              "    }\n",
              "\n",
              "    [theme=dark] .colab-df-convert:hover {\n",
              "      background-color: #434B5C;\n",
              "      box-shadow: 0px 1px 3px 1px rgba(0, 0, 0, 0.15);\n",
              "      filter: drop-shadow(0px 1px 2px rgba(0, 0, 0, 0.3));\n",
              "      fill: #FFFFFF;\n",
              "    }\n",
              "  </style>\n",
              "\n",
              "      <script>\n",
              "        const buttonEl =\n",
              "          document.querySelector('#df-fd4bd092-a0a0-4131-a153-4991c000d92b button.colab-df-convert');\n",
              "        buttonEl.style.display =\n",
              "          google.colab.kernel.accessAllowed ? 'block' : 'none';\n",
              "\n",
              "        async function convertToInteractive(key) {\n",
              "          const element = document.querySelector('#df-fd4bd092-a0a0-4131-a153-4991c000d92b');\n",
              "          const dataTable =\n",
              "            await google.colab.kernel.invokeFunction('convertToInteractive',\n",
              "                                                     [key], {});\n",
              "          if (!dataTable) return;\n",
              "\n",
              "          const docLinkHtml = 'Like what you see? Visit the ' +\n",
              "            '<a target=\"_blank\" href=https://colab.research.google.com/notebooks/data_table.ipynb>data table notebook</a>'\n",
              "            + ' to learn more about interactive tables.';\n",
              "          element.innerHTML = '';\n",
              "          dataTable['output_type'] = 'display_data';\n",
              "          await google.colab.output.renderOutput(dataTable, element);\n",
              "          const docLink = document.createElement('div');\n",
              "          docLink.innerHTML = docLinkHtml;\n",
              "          element.appendChild(docLink);\n",
              "        }\n",
              "      </script>\n",
              "    </div>\n",
              "  </div>\n"
            ]
          },
          "metadata": {},
          "execution_count": 13
        }
      ]
    },
    {
      "cell_type": "markdown",
      "source": [
        "# Feature Engineering"
      ],
      "metadata": {
        "id": "WbPVEmJO-36f"
      }
    },
    {
      "cell_type": "code",
      "source": [
        "def create_features_count(train_x, test_x):\n",
        "  # Count Vectors\n",
        "  vectorizer = CountVectorizer()\n",
        "  vectorizer.fit(train_x)\n",
        "  x_train_count_vectorizer = vectorizer.transform(train_x)\n",
        "  x_test_count_vectorizer = vectorizer.transform(test_x)\n",
        "\n",
        "  return x_train_count_vectorizer, x_test_count_vectorizer"
      ],
      "metadata": {
        "id": "FGyybx94fFAp"
      },
      "execution_count": 14,
      "outputs": []
    },
    {
      "cell_type": "code",
      "source": [
        "x_train_count_vectorizer, x_test_count_vectorizer = create_features_count(train_x, test_x)"
      ],
      "metadata": {
        "id": "16bX-G5lfxEH"
      },
      "execution_count": 15,
      "outputs": []
    },
    {
      "cell_type": "code",
      "source": [
        "def create_features_TFIDF_word(train_x, test_x):\n",
        "  # TF-IDF word\n",
        "  tf_idf_word_vectorizer = TfidfVectorizer()\n",
        "  tf_idf_word_vectorizer.fit(train_x)\n",
        "  x_train_tf_idf_word = tf_idf_word_vectorizer.transform(train_x)\n",
        "  x_test_tf_idf_word = tf_idf_word_vectorizer.transform(test_x)\n",
        "\n",
        "  return x_train_tf_idf_word, x_test_tf_idf_word"
      ],
      "metadata": {
        "id": "ocTwPxL4cX0D"
      },
      "execution_count": 16,
      "outputs": []
    },
    {
      "cell_type": "code",
      "source": [
        "x_train_tf_idf_word, x_test_tf_idf_word = create_features_TFIDF_word(train_x, test_x)"
      ],
      "metadata": {
        "id": "kpIsuF02gHpN"
      },
      "execution_count": 17,
      "outputs": []
    },
    {
      "cell_type": "code",
      "source": [
        "def create_features_TFIDF_ngram(train_x, test_x):\n",
        "  # TF-IDF ngram\n",
        "  tf_idf_ngram_vectorizer = TfidfVectorizer(ngram_range=(2,3))\n",
        "  tf_idf_ngram_vectorizer.fit(train_x)\n",
        "  x_train_tf_idf_ngram = tf_idf_ngram_vectorizer.transform(train_x)\n",
        "  x_test_tf_idf_ngram = tf_idf_ngram_vectorizer.transform(test_x)\n",
        "\n",
        "  return x_train_tf_idf_ngram, x_test_tf_idf_ngram"
      ],
      "metadata": {
        "id": "Lz9LSxYTgHcR"
      },
      "execution_count": 18,
      "outputs": []
    },
    {
      "cell_type": "code",
      "source": [
        "x_train_tf_idf_ngram, x_test_tf_idf_ngram = create_features_TFIDF_ngram(train_x, test_x)"
      ],
      "metadata": {
        "id": "Pu_h6aOJgbxm"
      },
      "execution_count": 19,
      "outputs": []
    },
    {
      "cell_type": "code",
      "source": [
        "def create_features_TFIDF_chars(train_x, test_x):\n",
        "  # TF-IDF Characters\n",
        "  tf_idf_chars_vectorizer = TfidfVectorizer(analyzer=\"char\", ngram_range=(2,3))\n",
        "  tf_idf_chars_vectorizer.fit(train_x)\n",
        "  x_train_tf_idf_chars = tf_idf_chars_vectorizer.transform(train_x)\n",
        "  x_test_tf_idf_chars = tf_idf_chars_vectorizer.transform(test_x)\n",
        "\n",
        "  return x_train_tf_idf_chars, x_test_tf_idf_chars"
      ],
      "metadata": {
        "id": "oTPNPjdIgbGw"
      },
      "execution_count": 20,
      "outputs": []
    },
    {
      "cell_type": "code",
      "source": [
        "x_train_tf_idf_chars, x_test_tf_idf_chars = create_features_TFIDF_chars(train_x, test_x)"
      ],
      "metadata": {
        "id": "pIe_db33gpuf"
      },
      "execution_count": 21,
      "outputs": []
    },
    {
      "cell_type": "markdown",
      "source": [
        "# Create Model"
      ],
      "metadata": {
        "id": "ehYiQk-Ggwuw"
      }
    },
    {
      "cell_type": "code",
      "source": [
        "def crate_model(train_x, test_x):\n",
        "  # Count\n",
        "  x_train_count_vectorizer, x_test_count_vectorizer = create_features_count(train_x, test_x)\n",
        "  loj_count = linear_model.LogisticRegression(solver='lbfgs', max_iter=1000)\n",
        "  loj_model_count = loj_count.fit(x_train_count_vectorizer, train_y)\n",
        "  accuracy_count = model_selection.cross_val_score(loj_model_count, x_test_count_vectorizer, test_y, cv=10).mean()\n",
        "  print(\"Accuracy - Count Vectors: %.3f\" % accuracy_count)\n",
        "\n",
        "  # TF-IDF Word\n",
        "  x_train_tf_idf_word, x_test_tf_idf_word = create_features_TFIDF_word(train_x, test_x)\n",
        "  loj_word = linear_model.LogisticRegression(solver='lbfgs', max_iter=1000)\n",
        "  loj_model_word = loj_word.fit(x_train_tf_idf_word, train_y)\n",
        "  accuracy_word = model_selection.cross_val_score(loj_model_word, x_test_tf_idf_word, test_y, cv=10).mean()\n",
        "  print(\"Accuracy - TF-IDF Word: %.3f\" % accuracy_word)\n",
        "\n",
        "  # TF-IDF ngram\n",
        "  x_train_tf_idf_ngram, x_test_tf_idf_ngram = create_features_TFIDF_ngram(train_x, test_x)\n",
        "  loj_ngram = linear_model.LogisticRegression(solver='lbfgs', max_iter=1000)\n",
        "  loj_model_ngram = loj_ngram.fit(x_train_tf_idf_ngram, train_y)\n",
        "  accuracy_ngram = model_selection.cross_val_score(loj_model_ngram, x_test_tf_idf_ngram, test_y, cv=10).mean()\n",
        "  print(\"Accuracy TF-IDF ngram: %.3f\" % accuracy_ngram)\n",
        "\n",
        "  # TF-IDF chars\n",
        "\n",
        "  loj_chars = linear_model.LogisticRegression(solver='lbfgs', max_iter=1000)\n",
        "  loj_model_chars = loj_chars.fit(x_train_tf_idf_chars, train_y)\n",
        "  accuracy_chars = model_selection.cross_val_score(loj_model_chars, x_test_tf_idf_chars, test_y, cv=10).mean()\n",
        "  print(\"Accuracy TF-IDF Characters: %.3f\" % accuracy_chars)\n",
        "\n",
        "  return loj_model_count, loj_model_word, loj_model_ngram, loj_model_chars\n"
      ],
      "metadata": {
        "id": "6_8WuCDglNvb"
      },
      "execution_count": 22,
      "outputs": []
    },
    {
      "cell_type": "code",
      "source": [
        "loj_model_count, loj_model_word, loj_model_ngram, loj_model_chars = crate_model(train_x, test_x)"
      ],
      "metadata": {
        "colab": {
          "base_uri": "https://localhost:8080/"
        },
        "id": "KTYDuclanDtG",
        "outputId": "58b86124-c31a-47e8-b5e9-ea3ca2410c17"
      },
      "execution_count": 23,
      "outputs": [
        {
          "output_type": "stream",
          "name": "stdout",
          "text": [
            "Accuracy - Count Vectors: 0.837\n",
            "Accuracy - TF-IDF Word: 0.833\n",
            "Accuracy TF-IDF ngram: 0.748\n",
            "Accuracy TF-IDF Characters: 0.781\n"
          ]
        }
      ]
    },
    {
      "cell_type": "markdown",
      "source": [
        "# Prediction"
      ],
      "metadata": {
        "id": "4HgYf6sBq2jL"
      }
    },
    {
      "cell_type": "code",
      "source": [
        "# Count Vectorizer\n",
        "def predict_count(train_x, model, new_comment):\n",
        "  new_comment= pd.Series(new_comment)\n",
        "  v = CountVectorizer()\n",
        "  v.fit(train_x)\n",
        "  new_comment = v.transform(new_comment)\n",
        "  result = model.predict(new_comment)\n",
        "  if result==1:\n",
        "    print(\"Comment is Pozitive\")\n",
        "  else:\n",
        "    print(\"Comment is Negative\")"
      ],
      "metadata": {
        "id": "z2QWgjUvrGaj"
      },
      "execution_count": 24,
      "outputs": []
    },
    {
      "cell_type": "code",
      "source": [
        "predict_count(train_x, model=loj_model_count, new_comment=\"this movie was a good movie\")"
      ],
      "metadata": {
        "colab": {
          "base_uri": "https://localhost:8080/"
        },
        "id": "xHz7YRZRsDzS",
        "outputId": "66b904f4-bce0-4669-93ea-562842e8fce4"
      },
      "execution_count": 25,
      "outputs": [
        {
          "output_type": "stream",
          "name": "stdout",
          "text": [
            "Comment is Pozitive\n"
          ]
        }
      ]
    },
    {
      "cell_type": "code",
      "source": [
        "# TF-IDF Word\n",
        "def predict_word(train_x, model, new_comment):\n",
        "  new_comment= pd.Series(new_comment)\n",
        "  v = TfidfVectorizer()\n",
        "  v.fit(train_x)\n",
        "  new_comment = v.transform(new_comment)\n",
        "  result = model.predict(new_comment)\n",
        "  if result==1:\n",
        "    print(\"Comment is Pozitive\")\n",
        "  else:\n",
        "    print(\"Comment is Negative\")"
      ],
      "metadata": {
        "id": "4QI0Dco6sKWF"
      },
      "execution_count": 26,
      "outputs": []
    },
    {
      "cell_type": "code",
      "source": [
        "predict_word(train_x, model=loj_model_word, new_comment=\"this movie was a good movie\")"
      ],
      "metadata": {
        "colab": {
          "base_uri": "https://localhost:8080/"
        },
        "id": "NZvxTBNgsnnG",
        "outputId": "f7d3eb5f-3777-444a-95fa-7cb9d105767e"
      },
      "execution_count": 27,
      "outputs": [
        {
          "output_type": "stream",
          "name": "stdout",
          "text": [
            "Comment is Pozitive\n"
          ]
        }
      ]
    },
    {
      "cell_type": "code",
      "source": [
        "# TF-IDF ngram\n",
        "def predict_ngram(train_x, model, new_comment):\n",
        "  new_comment= pd.Series(new_comment)\n",
        "  v = TfidfVectorizer(ngram_range=(2,3))\n",
        "  v.fit(train_x)\n",
        "  new_comment = v.transform(new_comment)\n",
        "  result = model.predict(new_comment)\n",
        "  if result==1:\n",
        "    print(\"Comment is Pozitive\")\n",
        "  else:\n",
        "    print(\"Comment is Negative\")"
      ],
      "metadata": {
        "id": "8lUDZsCMsqUu"
      },
      "execution_count": 28,
      "outputs": []
    },
    {
      "cell_type": "code",
      "source": [
        "predict_ngram(train_x, model=loj_model_ngram, new_comment=\"this movie was a good movie\")"
      ],
      "metadata": {
        "colab": {
          "base_uri": "https://localhost:8080/"
        },
        "id": "Jqqge2KTtgo0",
        "outputId": "e4e20318-9706-4dcf-9ead-3d76f8de8eba"
      },
      "execution_count": 30,
      "outputs": [
        {
          "output_type": "stream",
          "name": "stdout",
          "text": [
            "Comment is Pozitive\n"
          ]
        }
      ]
    },
    {
      "cell_type": "code",
      "source": [
        "# TF-IDF characters\n",
        "def predict_chars(train_x, model, new_comment):\n",
        "  new_comment= pd.Series(new_comment)\n",
        "  v = TfidfVectorizer(analyzer=\"char\", ngram_range=(2,3))\n",
        "  v.fit(train_x)\n",
        "  new_comment = v.transform(new_comment)\n",
        "  result = model.predict(new_comment)\n",
        "  if result==1:\n",
        "    print(\"Comment is Pozitive\")\n",
        "  else:\n",
        "    print(\"Comment is Negative\")"
      ],
      "metadata": {
        "id": "dLt5oQ--tnPO"
      },
      "execution_count": 36,
      "outputs": []
    },
    {
      "cell_type": "code",
      "source": [
        "predict_chars(train_x, model=loj_model_chars, new_comment=\"this movie was a good movie\")"
      ],
      "metadata": {
        "colab": {
          "base_uri": "https://localhost:8080/"
        },
        "id": "lcKxbEOcOdIc",
        "outputId": "6ee7e319-ff40-44b4-d085-d5b5bd3c1632"
      },
      "execution_count": 44,
      "outputs": [
        {
          "output_type": "stream",
          "name": "stdout",
          "text": [
            "Comment is Negative\n"
          ]
        }
      ]
    }
  ]
}